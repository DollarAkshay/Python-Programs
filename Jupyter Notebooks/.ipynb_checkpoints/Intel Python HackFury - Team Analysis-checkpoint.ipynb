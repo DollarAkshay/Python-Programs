{
 "cells": [
  {
   "cell_type": "markdown",
   "metadata": {},
   "source": [
    "# Missing Hackthon Team Analysis\n",
    "\n",
    "Analyze the teams for the [HackerEarth - Missing Hackthon](https://www.hackerearth.com/challenges/hackathon/missing-hackathon/participants/#participants) from the HTML page"
   ]
  },
  {
   "cell_type": "code",
   "execution_count": 1,
   "metadata": {},
   "outputs": [],
   "source": [
    "%matplotlib inline\n",
    "\n",
    "import datetime\n",
    "import glob\n",
    "import ipywidgets\n",
    "import math\n",
    "import matplotlib.pyplot as plt\n",
    "import numpy as np\n",
    "import pandas as pd\n",
    "from scipy import stats\n",
    "import seaborn as sns\n",
    "import time\n",
    "\n",
    "from bs4 import BeautifulSoup"
   ]
  },
  {
   "cell_type": "markdown",
   "metadata": {},
   "source": [
    "## Global parameters and variables"
   ]
  },
  {
   "cell_type": "code",
   "execution_count": 2,
   "metadata": {},
   "outputs": [],
   "source": [
    "plt.rcParams['figure.figsize'] = [16, 9]\n",
    "plt.rcParams['font.size'] = 14\n",
    "plt.rcParams['axes.grid'] = True\n",
    "plt.rcParams['figure.facecolor'] = 'white'\n",
    "pd.set_option('display.max_columns', 100)\n",
    "pd.set_option('display.width', 1000)"
   ]
  },
  {
   "cell_type": "code",
   "execution_count": 3,
   "metadata": {},
   "outputs": [],
   "source": [
    "html_file = './data/Online Hackathon _ HackerEarth developer event _ Missing Hackathon.html'\n",
    "with open(html_file, encoding=\"utf-8\") as f:\n",
    "    html_content = f.read()\n",
    "soup = BeautifulSoup(html_content, 'html.parser')\n",
    "team_divs = soup.find_all(class_=\"pl-card-header\")"
   ]
  },
  {
   "cell_type": "code",
   "execution_count": 4,
   "metadata": {},
   "outputs": [],
   "source": [
    "teams = []\n",
    "for team_div in team_divs:\n",
    "    team_name = team_div.find('span').text.strip()\n",
    "    team_member_divs = team_div.find_all(class_=\"profile-pic-name\")\n",
    "    team_members = [member.text.strip() for member in team_member_divs]\n",
    "    teams.append((team_name, team_members))"
   ]
  },
  {
   "cell_type": "code",
   "execution_count": 5,
   "metadata": {},
   "outputs": [
    {
     "name": "stdout",
     "output_type": "stream",
     "text": [
      "Shape :  (691, 4)\n"
     ]
    },
    {
     "data": {
      "text/html": [
       "<div>\n",
       "<style scoped>\n",
       "    .dataframe tbody tr th:only-of-type {\n",
       "        vertical-align: middle;\n",
       "    }\n",
       "\n",
       "    .dataframe tbody tr th {\n",
       "        vertical-align: top;\n",
       "    }\n",
       "\n",
       "    .dataframe thead th {\n",
       "        text-align: right;\n",
       "    }\n",
       "</style>\n",
       "<table border=\"1\" class=\"dataframe\">\n",
       "  <thead>\n",
       "    <tr style=\"text-align: right;\">\n",
       "      <th></th>\n",
       "      <th>TeamName</th>\n",
       "      <th>TeamMembers</th>\n",
       "      <th>TeamSize</th>\n",
       "      <th>DefaultName</th>\n",
       "    </tr>\n",
       "  </thead>\n",
       "  <tbody>\n",
       "    <tr>\n",
       "      <th>409</th>\n",
       "      <td>alok758_8d8a</td>\n",
       "      <td>[Alok Pandey]</td>\n",
       "      <td>1</td>\n",
       "      <td>True</td>\n",
       "    </tr>\n",
       "    <tr>\n",
       "      <th>0</th>\n",
       "      <td>jack393_2a3c</td>\n",
       "      <td>[Jack Jones]</td>\n",
       "      <td>1</td>\n",
       "      <td>True</td>\n",
       "    </tr>\n",
       "    <tr>\n",
       "      <th>240</th>\n",
       "      <td>aaron228_4988</td>\n",
       "      <td>[aaron wit]</td>\n",
       "      <td>1</td>\n",
       "      <td>True</td>\n",
       "    </tr>\n",
       "    <tr>\n",
       "      <th>173</th>\n",
       "      <td>Saqhas</td>\n",
       "      <td>[Saquib Nadeem Hashmi]</td>\n",
       "      <td>1</td>\n",
       "      <td>False</td>\n",
       "    </tr>\n",
       "    <tr>\n",
       "      <th>589</th>\n",
       "      <td>rajdeep99</td>\n",
       "      <td>[Rajdeep Bharati]</td>\n",
       "      <td>1</td>\n",
       "      <td>False</td>\n",
       "    </tr>\n",
       "    <tr>\n",
       "      <th>64</th>\n",
       "      <td>bitthal1_e85c</td>\n",
       "      <td>[bitthal patidar]</td>\n",
       "      <td>1</td>\n",
       "      <td>True</td>\n",
       "    </tr>\n",
       "    <tr>\n",
       "      <th>669</th>\n",
       "      <td>shubham5392_4ffe</td>\n",
       "      <td>[Shubham Kumar]</td>\n",
       "      <td>1</td>\n",
       "      <td>True</td>\n",
       "    </tr>\n",
       "    <tr>\n",
       "      <th>364</th>\n",
       "      <td>NolongerMissing</td>\n",
       "      <td>[Bhaskar Mishra]</td>\n",
       "      <td>1</td>\n",
       "      <td>False</td>\n",
       "    </tr>\n",
       "    <tr>\n",
       "      <th>524</th>\n",
       "      <td>amitesh25_325d</td>\n",
       "      <td>[Amitesh Anand]</td>\n",
       "      <td>1</td>\n",
       "      <td>True</td>\n",
       "    </tr>\n",
       "    <tr>\n",
       "      <th>163</th>\n",
       "      <td>dilip.divvela_282c</td>\n",
       "      <td>[dilip divvela]</td>\n",
       "      <td>1</td>\n",
       "      <td>True</td>\n",
       "    </tr>\n",
       "  </tbody>\n",
       "</table>\n",
       "</div>"
      ],
      "text/plain": [
       "               TeamName             TeamMembers  TeamSize  DefaultName\n",
       "409        alok758_8d8a           [Alok Pandey]         1         True\n",
       "0          jack393_2a3c            [Jack Jones]         1         True\n",
       "240       aaron228_4988             [aaron wit]         1         True\n",
       "173              Saqhas  [Saquib Nadeem Hashmi]         1        False\n",
       "589           rajdeep99       [Rajdeep Bharati]         1        False\n",
       "64        bitthal1_e85c       [bitthal patidar]         1         True\n",
       "669    shubham5392_4ffe         [Shubham Kumar]         1         True\n",
       "364     NolongerMissing        [Bhaskar Mishra]         1        False\n",
       "524      amitesh25_325d         [Amitesh Anand]         1         True\n",
       "163  dilip.divvela_282c         [dilip divvela]         1         True"
      ]
     },
     "execution_count": 5,
     "metadata": {},
     "output_type": "execute_result"
    }
   ],
   "source": [
    "df = pd.DataFrame(teams)\n",
    "df.columns = [\"TeamName\", \"TeamMembers\"]\n",
    "df[\"TeamSize\"] = df[\"TeamMembers\"].str.len()\n",
    "df[\"DefaultName\"] = np.where(df[\"TeamName\"].str.match(r\".*_[0-9abcdef]{4}\"), True,  False)\n",
    "print(\"Shape : \", df.shape)\n",
    "df.sample(10)"
   ]
  },
  {
   "cell_type": "code",
   "execution_count": 11,
   "metadata": {},
   "outputs": [
    {
     "name": "stdout",
     "output_type": "stream",
     "text": [
      "True     611\n",
      "False     80\n",
      "Name: DefaultName, dtype: int64\n"
     ]
    },
    {
     "data": {
      "text/plain": [
       "Text(0.5, 1.0, 'Actual Teams vs Default Teams')"
      ]
     },
     "execution_count": 11,
     "metadata": {},
     "output_type": "execute_result"
    },
    {
     "data": {
      "image/png": "[encoded data removed]",
      "text/plain": [
       "<Figure size 1152x648 with 1 Axes>"
      ]
     },
     "metadata": {},
     "output_type": "display_data"
    }
   ],
   "source": [
    "print(df[\"DefaultName\"].value_counts())\n",
    "sns.countplot(x=\"DefaultName\", data=df)\n",
    "plt.title(\"Actual Teams vs Default Teams\")"
   ]
  },
  {
   "cell_type": "code",
   "execution_count": 15,
   "metadata": {},
   "outputs": [
    {
     "name": "stdout",
     "output_type": "stream",
     "text": [
      "False    80\n",
      "Name: DefaultName, dtype: int64\n"
     ]
    },
    {
     "data": {
      "text/plain": [
       "Text(0.5, 1.0, 'Actual Team Sizes')"
      ]
     },
     "execution_count": 15,
     "metadata": {},
     "output_type": "execute_result"
    },
    {
     "data": {
      "image/png": "[encoded data removed]",
      "text/plain": [
       "<Figure size 1152x648 with 1 Axes>"
      ]
     },
     "metadata": {},
     "output_type": "display_data"
    }
   ],
   "source": [
    "print(df[df[\"DefaultName\"]==False][\"DefaultName\"].value_counts())\n",
    "sns.countplot(x=\"TeamSize\", data=df[df[\"DefaultName\"]==False])\n",
    "plt.title(\"Actual Team Sizes\")"
   ]
  },
  {
   "cell_type": "code",
   "execution_count": null,
   "metadata": {},
   "outputs": [],
   "source": []
  }
 ],
 "metadata": {
  "kernelspec": {
   "display_name": "Python 3",
   "language": "python",
   "name": "python3"
  },
  "language_info": {
   "codemirror_mode": {
    "name": "ipython",
    "version": 3
   },
   "file_extension": ".py",
   "mimetype": "text/x-python",
   "name": "python",
   "nbconvert_exporter": "python",
   "pygments_lexer": "ipython3",
   "version": "3.6.3"
  }
 },
 "nbformat": 4,
 "nbformat_minor": 2
}

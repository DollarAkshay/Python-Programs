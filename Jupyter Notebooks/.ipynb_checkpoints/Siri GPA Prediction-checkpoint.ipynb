{
 "cells": [
  {
   "cell_type": "code",
   "execution_count": 6,
   "metadata": {},
   "outputs": [],
   "source": [
    "import numpy as np\n",
    "import matplotlib.pyplot as plt\n",
    "from sklearn.linear_model import LinearRegression"
   ]
  },
  {
   "cell_type": "code",
   "execution_count": 25,
   "metadata": {},
   "outputs": [],
   "source": [
    "x = np.array([1, 2, 3, 4, 5, 6,7,8])\n",
    "y = np.array([8.92, 9.00, 8.43, 8.57, 8.27])\n",
    "x_pred = np.array([6,7,8])\n",
    "\n",
    "x = np.expand_dims(x, axis=1)\n",
    "y = np.expand_dims(y, axis=1)\n",
    "x_pred = np.expand_dims(x_pred, axis=1)"
   ]
  },
  {
   "cell_type": "code",
   "execution_count": 26,
   "metadata": {},
   "outputs": [
    {
     "name": "stdout",
     "output_type": "stream",
     "text": [
      "Model Coefficients :  [-0.15157143 -0.00357143]\n",
      "Model Interrcept :  9.132\n"
     ]
    }
   ],
   "source": [
    "model = LinearRegression()\n",
    "x_full = np.hstack([x, x**2])\n",
    "model.fit(x_full, y)\n",
    "print(\"Model Coefficients : \", model.coef_.flatten())\n",
    "print(\"Model Interrcept : \", model.intercept_[0])"
   ]
  },
  {
   "cell_type": "code",
   "execution_count": 28,
   "metadata": {},
   "outputs": [
    {
     "name": "stdout",
     "output_type": "stream",
     "text": [
      "[[8.094     ]\n",
      " [7.896     ]\n",
      " [7.69085714]]\n"
     ]
    },
    {
     "data": {
      "image/png": "[encoded data removed]",
      "text/plain": [
       "<matplotlib.figure.Figure at 0x203b76f7cc0>"
      ]
     },
     "metadata": {},
     "output_type": "display_data"
    }
   ],
   "source": [
    "# Get Best Fit Line prediction\n",
    "x_pred_full = np.hstack([x_pred, x_pred**2])\n",
    "y_pred = model.predict(x_pred_full)\n",
    "print(y_pred)\n",
    "# Plot Data\n",
    "plt.plot(x, y, 'o', label='Observed data')\n",
    "#plt.plote(x_full_dates, y_pred,'r', label='Best Fit line' )\n",
    "\n",
    "# Plot parameters to make it look pretty\n",
    "plt.rcParams['axes.grid'] = True\n",
    "plt.rcParams['font.size'] = 16\n",
    "plt.rcParams[\"figure.figsize\"] = (16,6)\n",
    "plt.legend(loc='best')\n",
    "ax=plt.gca()\n",
    "plt.show()"
   ]
  },
  {
   "cell_type": "code",
   "execution_count": null,
   "metadata": {},
   "outputs": [],
   "source": []
  }
 ],
 "metadata": {
  "kernelspec": {
   "display_name": "Python 3",
   "language": "python",
   "name": "python3"
  },
  "language_info": {
   "codemirror_mode": {
    "name": "ipython",
    "version": 3
   },
   "file_extension": ".py",
   "mimetype": "text/x-python",
   "name": "python",
   "nbconvert_exporter": "python",
   "pygments_lexer": "ipython3",
   "version": "3.6.3"
  }
 },
 "nbformat": 4,
 "nbformat_minor": 2
}

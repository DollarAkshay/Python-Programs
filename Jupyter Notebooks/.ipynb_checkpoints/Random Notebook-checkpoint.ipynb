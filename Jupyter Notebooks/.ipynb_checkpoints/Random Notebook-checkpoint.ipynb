{
 "cells": [
  {
   "cell_type": "markdown",
   "metadata": {},
   "source": [
    "# Random Notebook"
   ]
  },
  {
   "cell_type": "code",
   "execution_count": 9,
   "metadata": {},
   "outputs": [],
   "source": [
    "import datetime\n",
    "import glob\n",
    "import ipywidgets\n",
    "import math\n",
    "import matplotlib.pyplot as plt\n",
    "import numpy as np\n",
    "import pandas as pd\n",
    "from scipy import stats\n",
    "import seaborn as sns\n",
    "import time"
   ]
  },
  {
   "cell_type": "markdown",
   "metadata": {},
   "source": [
    "## Global parameters and variables"
   ]
  },
  {
   "cell_type": "code",
   "execution_count": 30,
   "metadata": {},
   "outputs": [],
   "source": [
    "plt.rcParams['figure.figsize'] = [16, 9]\n",
    "plt.rcParams['font.size'] = 14\n",
    "plt.rcParams['axes.grid'] = True\n",
    "plt.rcParams['figure.facecolor'] = 'white'\n",
    "pd.set_option('display.max_columns', 100)\n",
    "pd.set_option('display.width', 1000)"
   ]
  },
  {
   "cell_type": "markdown",
   "metadata": {},
   "source": [
    "# Run Comparisons for MCTS"
   ]
  },
  {
   "cell_type": "code",
   "execution_count": 66,
   "metadata": {},
   "outputs": [
    {
     "name": "stdout",
     "output_type": "stream",
     "text": [
      "Run 1 Total Time 10.805sec\n",
      "Run 2 Total Time 10.527sec\n",
      "Run 3 Total Time 10.476sec\n",
      "Run 4 Total Time 3.635sec\n",
      "Run 5 Total Time 4.043sec\n",
      "Run 6 Total Time 3.637sec\n",
      "Run 7 Total Time 9.867sec\n",
      "Shape : (28, 4)\n"
     ]
    },
    {
     "data": {
      "text/html": [
       "<div>\n",
       "<style scoped>\n",
       "    .dataframe tbody tr th:only-of-type {\n",
       "        vertical-align: middle;\n",
       "    }\n",
       "\n",
       "    .dataframe tbody tr th {\n",
       "        vertical-align: top;\n",
       "    }\n",
       "\n",
       "    .dataframe thead th {\n",
       "        text-align: right;\n",
       "    }\n",
       "</style>\n",
       "<table border=\"1\" class=\"dataframe\">\n",
       "  <thead>\n",
       "    <tr style=\"text-align: right;\">\n",
       "      <th></th>\n",
       "      <th>metric</th>\n",
       "      <th>nanoseconds</th>\n",
       "      <th>miliseconds</th>\n",
       "      <th>run</th>\n",
       "    </tr>\n",
       "  </thead>\n",
       "  <tbody>\n",
       "    <tr>\n",
       "      <th>0</th>\n",
       "      <td>search</td>\n",
       "      <td>6723078100</td>\n",
       "      <td>6723.0781</td>\n",
       "      <td>1</td>\n",
       "    </tr>\n",
       "    <tr>\n",
       "      <th>1</th>\n",
       "      <td>expansion</td>\n",
       "      <td>99655600</td>\n",
       "      <td>99.6556</td>\n",
       "      <td>1</td>\n",
       "    </tr>\n",
       "    <tr>\n",
       "      <th>2</th>\n",
       "      <td>simulation</td>\n",
       "      <td>3914181000</td>\n",
       "      <td>3914.1810</td>\n",
       "      <td>1</td>\n",
       "    </tr>\n",
       "    <tr>\n",
       "      <th>3</th>\n",
       "      <td>backprop</td>\n",
       "      <td>67771600</td>\n",
       "      <td>67.7716</td>\n",
       "      <td>1</td>\n",
       "    </tr>\n",
       "    <tr>\n",
       "      <th>4</th>\n",
       "      <td>search</td>\n",
       "      <td>6477660900</td>\n",
       "      <td>6477.6609</td>\n",
       "      <td>2</td>\n",
       "    </tr>\n",
       "    <tr>\n",
       "      <th>5</th>\n",
       "      <td>expansion</td>\n",
       "      <td>101703800</td>\n",
       "      <td>101.7038</td>\n",
       "      <td>2</td>\n",
       "    </tr>\n",
       "    <tr>\n",
       "      <th>6</th>\n",
       "      <td>simulation</td>\n",
       "      <td>3877756500</td>\n",
       "      <td>3877.7565</td>\n",
       "      <td>2</td>\n",
       "    </tr>\n",
       "    <tr>\n",
       "      <th>7</th>\n",
       "      <td>backprop</td>\n",
       "      <td>69512200</td>\n",
       "      <td>69.5122</td>\n",
       "      <td>2</td>\n",
       "    </tr>\n",
       "    <tr>\n",
       "      <th>8</th>\n",
       "      <td>search</td>\n",
       "      <td>6443000900</td>\n",
       "      <td>6443.0009</td>\n",
       "      <td>3</td>\n",
       "    </tr>\n",
       "    <tr>\n",
       "      <th>9</th>\n",
       "      <td>expansion</td>\n",
       "      <td>100528400</td>\n",
       "      <td>100.5284</td>\n",
       "      <td>3</td>\n",
       "    </tr>\n",
       "  </tbody>\n",
       "</table>\n",
       "</div>"
      ],
      "text/plain": [
       "       metric  nanoseconds  miliseconds  run\n",
       "0      search   6723078100    6723.0781    1\n",
       "1   expansion     99655600      99.6556    1\n",
       "2  simulation   3914181000    3914.1810    1\n",
       "3    backprop     67771600      67.7716    1\n",
       "4      search   6477660900    6477.6609    2\n",
       "5   expansion    101703800     101.7038    2\n",
       "6  simulation   3877756500    3877.7565    2\n",
       "7    backprop     69512200      69.5122    2\n",
       "8      search   6443000900    6443.0009    3\n",
       "9   expansion    100528400     100.5284    3"
      ]
     },
     "execution_count": 66,
     "metadata": {},
     "output_type": "execute_result"
    }
   ],
   "source": [
    "df = pd.DataFrame()\n",
    "\n",
    "for i in range(1, 8):\n",
    "    full_df = pd.read_csv(\"D:\\\\Competitive_Coding\\\\data\\\\data_{:d}.csv\".format(i))\n",
    "    full_df = full_df[['search', 'expansion', 'simulation', 'backprop']]\n",
    "    sum_df = full_df.sum().to_frame().reset_index()\n",
    "    sum_df.columns = ['metric', 'nanoseconds']\n",
    "    sum_df['miliseconds'] = sum_df['nanoseconds']/1000000\n",
    "    sum_df['run'] = i;\n",
    "    print(\"Run {:d} Total Time {:.3f}sec\".format(i, sum_df['miliseconds'].sum()/1000))\n",
    "    \n",
    "    df = df.append(sum_df)\n",
    "\n",
    "df = df.reset_index(drop=True)\n",
    "print(\"Shape :\", df.shape)\n",
    "df.head(10)"
   ]
  },
  {
   "cell_type": "code",
   "execution_count": 67,
   "metadata": {},
   "outputs": [
    {
     "data": {
      "image/png": "[encoded data removed]",
      "text/plain": [
       "<Figure size 1152x648 with 1 Axes>"
      ]
     },
     "metadata": {},
     "output_type": "display_data"
    }
   ],
   "source": [
    "sns.barplot(x='metric', y='miliseconds', data=df, hue='run')\n",
    "plt.title('1 Million iterations of MCTS');\n",
    "plt.show()"
   ]
  },
  {
   "cell_type": "code",
   "execution_count": 68,
   "metadata": {},
   "outputs": [
    {
     "data": {
      "text/html": [
       "<div>\n",
       "<style scoped>\n",
       "    .dataframe tbody tr th:only-of-type {\n",
       "        vertical-align: middle;\n",
       "    }\n",
       "\n",
       "    .dataframe tbody tr th {\n",
       "        vertical-align: top;\n",
       "    }\n",
       "\n",
       "    .dataframe thead th {\n",
       "        text-align: right;\n",
       "    }\n",
       "</style>\n",
       "<table border=\"1\" class=\"dataframe\">\n",
       "  <thead>\n",
       "    <tr style=\"text-align: right;\">\n",
       "      <th></th>\n",
       "      <th>metric</th>\n",
       "      <th>nanoseconds</th>\n",
       "      <th>miliseconds</th>\n",
       "      <th>run</th>\n",
       "    </tr>\n",
       "  </thead>\n",
       "  <tbody>\n",
       "    <tr>\n",
       "      <th>0</th>\n",
       "      <td>search</td>\n",
       "      <td>6723078100</td>\n",
       "      <td>6723.0781</td>\n",
       "      <td>1</td>\n",
       "    </tr>\n",
       "    <tr>\n",
       "      <th>1</th>\n",
       "      <td>expansion</td>\n",
       "      <td>99655600</td>\n",
       "      <td>99.6556</td>\n",
       "      <td>1</td>\n",
       "    </tr>\n",
       "    <tr>\n",
       "      <th>2</th>\n",
       "      <td>simulation</td>\n",
       "      <td>3914181000</td>\n",
       "      <td>3914.1810</td>\n",
       "      <td>1</td>\n",
       "    </tr>\n",
       "    <tr>\n",
       "      <th>3</th>\n",
       "      <td>backprop</td>\n",
       "      <td>67771600</td>\n",
       "      <td>67.7716</td>\n",
       "      <td>1</td>\n",
       "    </tr>\n",
       "    <tr>\n",
       "      <th>4</th>\n",
       "      <td>search</td>\n",
       "      <td>6477660900</td>\n",
       "      <td>6477.6609</td>\n",
       "      <td>2</td>\n",
       "    </tr>\n",
       "    <tr>\n",
       "      <th>5</th>\n",
       "      <td>expansion</td>\n",
       "      <td>101703800</td>\n",
       "      <td>101.7038</td>\n",
       "      <td>2</td>\n",
       "    </tr>\n",
       "    <tr>\n",
       "      <th>6</th>\n",
       "      <td>simulation</td>\n",
       "      <td>3877756500</td>\n",
       "      <td>3877.7565</td>\n",
       "      <td>2</td>\n",
       "    </tr>\n",
       "    <tr>\n",
       "      <th>7</th>\n",
       "      <td>backprop</td>\n",
       "      <td>69512200</td>\n",
       "      <td>69.5122</td>\n",
       "      <td>2</td>\n",
       "    </tr>\n",
       "    <tr>\n",
       "      <th>8</th>\n",
       "      <td>search</td>\n",
       "      <td>6443000900</td>\n",
       "      <td>6443.0009</td>\n",
       "      <td>3</td>\n",
       "    </tr>\n",
       "    <tr>\n",
       "      <th>9</th>\n",
       "      <td>expansion</td>\n",
       "      <td>100528400</td>\n",
       "      <td>100.5284</td>\n",
       "      <td>3</td>\n",
       "    </tr>\n",
       "    <tr>\n",
       "      <th>10</th>\n",
       "      <td>simulation</td>\n",
       "      <td>3863548700</td>\n",
       "      <td>3863.5487</td>\n",
       "      <td>3</td>\n",
       "    </tr>\n",
       "    <tr>\n",
       "      <th>11</th>\n",
       "      <td>backprop</td>\n",
       "      <td>69060700</td>\n",
       "      <td>69.0607</td>\n",
       "      <td>3</td>\n",
       "    </tr>\n",
       "    <tr>\n",
       "      <th>12</th>\n",
       "      <td>search</td>\n",
       "      <td>1706079000</td>\n",
       "      <td>1706.0790</td>\n",
       "      <td>4</td>\n",
       "    </tr>\n",
       "    <tr>\n",
       "      <th>13</th>\n",
       "      <td>expansion</td>\n",
       "      <td>93991800</td>\n",
       "      <td>93.9918</td>\n",
       "      <td>4</td>\n",
       "    </tr>\n",
       "    <tr>\n",
       "      <th>14</th>\n",
       "      <td>simulation</td>\n",
       "      <td>1753844000</td>\n",
       "      <td>1753.8440</td>\n",
       "      <td>4</td>\n",
       "    </tr>\n",
       "    <tr>\n",
       "      <th>15</th>\n",
       "      <td>backprop</td>\n",
       "      <td>81164400</td>\n",
       "      <td>81.1644</td>\n",
       "      <td>4</td>\n",
       "    </tr>\n",
       "    <tr>\n",
       "      <th>16</th>\n",
       "      <td>search</td>\n",
       "      <td>1676056900</td>\n",
       "      <td>1676.0569</td>\n",
       "      <td>5</td>\n",
       "    </tr>\n",
       "    <tr>\n",
       "      <th>17</th>\n",
       "      <td>expansion</td>\n",
       "      <td>92545800</td>\n",
       "      <td>92.5458</td>\n",
       "      <td>5</td>\n",
       "    </tr>\n",
       "    <tr>\n",
       "      <th>18</th>\n",
       "      <td>simulation</td>\n",
       "      <td>2197447500</td>\n",
       "      <td>2197.4475</td>\n",
       "      <td>5</td>\n",
       "    </tr>\n",
       "    <tr>\n",
       "      <th>19</th>\n",
       "      <td>backprop</td>\n",
       "      <td>76814200</td>\n",
       "      <td>76.8142</td>\n",
       "      <td>5</td>\n",
       "    </tr>\n",
       "    <tr>\n",
       "      <th>20</th>\n",
       "      <td>search</td>\n",
       "      <td>1706556600</td>\n",
       "      <td>1706.5566</td>\n",
       "      <td>6</td>\n",
       "    </tr>\n",
       "    <tr>\n",
       "      <th>21</th>\n",
       "      <td>expansion</td>\n",
       "      <td>93634000</td>\n",
       "      <td>93.6340</td>\n",
       "      <td>6</td>\n",
       "    </tr>\n",
       "    <tr>\n",
       "      <th>22</th>\n",
       "      <td>simulation</td>\n",
       "      <td>1755406500</td>\n",
       "      <td>1755.4065</td>\n",
       "      <td>6</td>\n",
       "    </tr>\n",
       "    <tr>\n",
       "      <th>23</th>\n",
       "      <td>backprop</td>\n",
       "      <td>81590400</td>\n",
       "      <td>81.5904</td>\n",
       "      <td>6</td>\n",
       "    </tr>\n",
       "    <tr>\n",
       "      <th>24</th>\n",
       "      <td>search</td>\n",
       "      <td>5609009600</td>\n",
       "      <td>5609.0096</td>\n",
       "      <td>7</td>\n",
       "    </tr>\n",
       "    <tr>\n",
       "      <th>25</th>\n",
       "      <td>expansion</td>\n",
       "      <td>104700400</td>\n",
       "      <td>104.7004</td>\n",
       "      <td>7</td>\n",
       "    </tr>\n",
       "    <tr>\n",
       "      <th>26</th>\n",
       "      <td>simulation</td>\n",
       "      <td>4081630500</td>\n",
       "      <td>4081.6305</td>\n",
       "      <td>7</td>\n",
       "    </tr>\n",
       "    <tr>\n",
       "      <th>27</th>\n",
       "      <td>backprop</td>\n",
       "      <td>71564100</td>\n",
       "      <td>71.5641</td>\n",
       "      <td>7</td>\n",
       "    </tr>\n",
       "  </tbody>\n",
       "</table>\n",
       "</div>"
      ],
      "text/plain": [
       "        metric  nanoseconds  miliseconds  run\n",
       "0       search   6723078100    6723.0781    1\n",
       "1    expansion     99655600      99.6556    1\n",
       "2   simulation   3914181000    3914.1810    1\n",
       "3     backprop     67771600      67.7716    1\n",
       "4       search   6477660900    6477.6609    2\n",
       "5    expansion    101703800     101.7038    2\n",
       "6   simulation   3877756500    3877.7565    2\n",
       "7     backprop     69512200      69.5122    2\n",
       "8       search   6443000900    6443.0009    3\n",
       "9    expansion    100528400     100.5284    3\n",
       "10  simulation   3863548700    3863.5487    3\n",
       "11    backprop     69060700      69.0607    3\n",
       "12      search   1706079000    1706.0790    4\n",
       "13   expansion     93991800      93.9918    4\n",
       "14  simulation   1753844000    1753.8440    4\n",
       "15    backprop     81164400      81.1644    4\n",
       "16      search   1676056900    1676.0569    5\n",
       "17   expansion     92545800      92.5458    5\n",
       "18  simulation   2197447500    2197.4475    5\n",
       "19    backprop     76814200      76.8142    5\n",
       "20      search   1706556600    1706.5566    6\n",
       "21   expansion     93634000      93.6340    6\n",
       "22  simulation   1755406500    1755.4065    6\n",
       "23    backprop     81590400      81.5904    6\n",
       "24      search   5609009600    5609.0096    7\n",
       "25   expansion    104700400     104.7004    7\n",
       "26  simulation   4081630500    4081.6305    7\n",
       "27    backprop     71564100      71.5641    7"
      ]
     },
     "execution_count": 68,
     "metadata": {},
     "output_type": "execute_result"
    }
   ],
   "source": [
    "df"
   ]
  },
  {
   "cell_type": "code",
   "execution_count": 22,
   "metadata": {},
   "outputs": [
    {
     "name": "stdout",
     "output_type": "stream",
     "text": [
      "1657.5129459613686\n",
      "1123.7988746378867\n"
     ]
    }
   ],
   "source": [
    "def calculateCGPoints(rank, N):\n",
    "    return min(N, 5000)**((N-rank+1)/N)\n",
    "\n",
    "print(calculateCGPoints(60, 2062))\n",
    "print(calculateCGPoints(165, 2062))"
   ]
  },
  {
   "cell_type": "code",
   "execution_count": 5,
   "metadata": {},
   "outputs": [
    {
     "data": {
      "text/plain": [
       "316.06961258558215"
      ]
     },
     "execution_count": 5,
     "metadata": {},
     "output_type": "execute_result"
    }
   ],
   "source": [
    "x = [60, -9940]\n",
    "p = [0.999, 0.001]\n",
    "\n",
    "avg = 0\n",
    "for i in range(len(x)):\n",
    "    avg+= x[i]*p[i]\n",
    "\n",
    "var = 0\n",
    "for i in range(len(x)):\n",
    "    var += p[i]*(x[i] - avg)**2\n",
    "    \n",
    "std = var**0.5\n",
    "std"
   ]
  },
  {
   "cell_type": "code",
   "execution_count": 9,
   "metadata": {},
   "outputs": [
    {
     "data": {
      "text/plain": [
       "20"
      ]
     },
     "execution_count": 9,
     "metadata": {},
     "output_type": "execute_result"
    }
   ],
   "source": [
    "def nCr(n , r):\n",
    "    r = min(n-r, r)\n",
    "    res = 1\n",
    "    for i in range(1, r+1):\n",
    "        res = res*(n-i+1)/i\n",
    "    return int(res)\n",
    "        \n",
    "nCr(6, 3)"
   ]
  },
  {
   "cell_type": "code",
   "execution_count": 21,
   "metadata": {},
   "outputs": [],
   "source": [
    "n = 2\n",
    "m = 3\n",
    "k = 4"
   ]
  },
  {
   "cell_type": "code",
   "execution_count": 19,
   "metadata": {},
   "outputs": [
    {
     "data": {
      "text/plain": [
       "10"
      ]
     },
     "execution_count": 19,
     "metadata": {},
     "output_type": "execute_result"
    }
   ],
   "source": [
    "# Works perfectly for k=2\n",
    "k**(n+m) - (k**n-1) - (k**m-1) - nCr(n+m, 1) - nCr(n+m, 2) + nCr(n, 1) + nCr(n, 2) + nCr(m, 1) + nCr(m, 2) + n*m"
   ]
  },
  {
   "cell_type": "code",
   "execution_count": 23,
   "metadata": {},
   "outputs": [
    {
     "data": {
      "text/plain": [
       "376"
      ]
     },
     "execution_count": 23,
     "metadata": {},
     "output_type": "execute_result"
    }
   ],
   "source": [
    "res = 0\n",
    "for i in range(k):\n",
    "    res += ((i+1)**n - i**n)*((i+1)**m - i**m)\n",
    "res"
   ]
  },
  {
   "cell_type": "markdown",
   "metadata": {},
   "source": [
    "# Integer to Binary (For BitBoards)"
   ]
  },
  {
   "cell_type": "code",
   "execution_count": 27,
   "metadata": {},
   "outputs": [
    {
     "name": "stdout",
     "output_type": "stream",
     "text": [
      "Board :\n",
      "0 0 0 0 0 1 0 0 \n",
      "0 0 0 0 0 1 0 0 \n",
      "1 0 0 0 0 0 0 0 \n",
      "1 0 0 0 1 1 0 0 \n",
      "0 0 0 0 1 1 0 0 \n",
      "0 0 0 0 1 1 0 0 \n",
      "1 0 1 0 1 1 1 1 \n",
      "1 0 1 0 0 0 1 1 \n",
      "\n",
      "\n",
      "1 1 1 1 0 0 1 1 \n",
      "1 1 1 1 0 0 1 1 \n",
      "0 1 1 1 1 1 1 0 \n",
      "0 0 0 0 0 0 0 0 \n",
      "0 0 0 0 0 0 0 0 \n",
      "0 0 0 0 0 0 0 0 \n",
      "0 0 0 0 0 0 0 0 \n",
      "0 0 0 0 0 0 0 0 \n",
      "\n",
      "\n",
      "1 1 1 1 0 1 1 1 \n",
      "1 1 1 1 0 1 1 1 \n",
      "1 1 1 1 1 1 1 0 \n",
      "1 0 0 0 1 1 0 0 \n",
      "0 0 0 0 1 1 0 0 \n",
      "0 0 0 0 1 1 0 0 \n",
      "1 0 1 0 1 1 1 1 \n",
      "1 0 1 0 0 0 1 1 \n",
      "\n",
      "\n",
      "Moves for :\n",
      "0 0 0 0 1 0 0 0 \n",
      "0 0 0 0 0 0 0 0 \n",
      "0 0 0 0 0 0 0 1 \n",
      "0 1 1 1 0 0 1 1 \n",
      "1 1 1 1 0 0 1 1 \n",
      "0 1 0 1 0 0 0 0 \n",
      "0 1 0 1 0 0 0 0 \n",
      "0 0 0 0 0 0 0 0 \n",
      "\n",
      "\n",
      "0 0 0 0 0 0 0 0 \n",
      "0 0 0 0 0 0 0 0 \n",
      "0 0 0 0 0 0 0 0 \n",
      "0 1 1 0 0 0 1 0 \n",
      "1 1 1 0 0 0 1 0 \n",
      "1 1 1 0 0 0 1 0 \n",
      "0 0 0 0 0 0 0 0 \n",
      "0 0 0 1 1 0 0 0 \n",
      "\n",
      "\n"
     ]
    }
   ],
   "source": [
    "board = [\n",
    "    14264360378304634912,\n",
    "    8310735,\n",
    "    14264360378312945647\n",
    "]\n",
    "\n",
    "moves = [\n",
    "    2826637406109712,\n",
    "    1729460628352925696\n",
    "]\n",
    "\n",
    "print(\"Board :\")\n",
    "for x in board:\n",
    "    for i in range(8):\n",
    "        for j in range(8):\n",
    "            print(\"1\" if x%2==1 else \"0\" , end=\" \")\n",
    "            x//=2\n",
    "        print(\"\\n\", end=\"\")\n",
    "    print(\"\\n\\n\", end=\"\")\n",
    "\n",
    "print(\"Moves for :\")\n",
    "for x in moves:\n",
    "    for i in range(8):\n",
    "        for j in range(8):\n",
    "            print(\"1\" if x%2==1 else \"0\" , end=\" \")\n",
    "            x//=2\n",
    "        print(\"\\n\", end=\"\")\n",
    "    print(\"\\n\\n\", end=\"\")"
   ]
  },
  {
   "cell_type": "markdown",
   "metadata": {},
   "source": [
    "# Khan Academy Solver"
   ]
  },
  {
   "cell_type": "code",
   "execution_count": 59,
   "metadata": {},
   "outputs": [
    {
     "name": "stdout",
     "output_type": "stream",
     "text": [
      "Row Sum : [112  60  28]\n",
      "Col Sum : [100 100]\n",
      "DF : -3\n"
     ]
    }
   ],
   "source": [
    "from scipy.stats import chisquare, chi2\n",
    "a = [\n",
    "    [48, 64],\n",
    "    [33, 27],\n",
    "    [19, 9]\n",
    "]\n",
    "\n",
    "col_sum = np.sum(a, 0)\n",
    "row_sum = np.sum(a, 1)\n",
    "t = np.sum(a)\n",
    "df = (len(a)-1)*(len(a[0]) -1)\n",
    "ddof_val = len(a)*len(a[0]) - df-  1\n",
    "print(\"Row Sum :\", row_sum)\n",
    "print(\"Col Sum :\", col_sum)\n",
    "print(\"DF :\", ddof_val)"
   ]
  },
  {
   "cell_type": "code",
   "execution_count": 58,
   "metadata": {},
   "outputs": [
    {
     "name": "stdout",
     "output_type": "stream",
     "text": [
      "Chi-Square : 6.457142857142856\n",
      "P-Value    : 0.5961651953927815\n"
     ]
    }
   ],
   "source": [
    "exp = []\n",
    "for i in range(len(a)):\n",
    "    e_row = []\n",
    "    for j in range(len(a[i])):\n",
    "        e_row.append( col_sum[j]*row_sum[i]/t )\n",
    "    exp.append(e_row)\n",
    "chi, p = chisquare(a, exp, ddof=ddof_val, axis=None)\n",
    "print(\"Chi-Square :\", chi)\n",
    "print(\"P-Value    :\", p)"
   ]
  },
  {
   "cell_type": "code",
   "execution_count": 52,
   "metadata": {},
   "outputs": [
    {
     "data": {
      "text/plain": [
       "2"
      ]
     },
     "execution_count": 52,
     "metadata": {},
     "output_type": "execute_result"
    }
   ],
   "source": [
    "df"
   ]
  },
  {
   "cell_type": "code",
   "execution_count": null,
   "metadata": {},
   "outputs": [],
   "source": []
  }
 ],
 "metadata": {
  "kernelspec": {
   "display_name": "Python 3",
   "language": "python",
   "name": "python3"
  },
  "language_info": {
   "codemirror_mode": {
    "name": "ipython",
    "version": 3
   },
   "file_extension": ".py",
   "mimetype": "text/x-python",
   "name": "python",
   "nbconvert_exporter": "python",
   "pygments_lexer": "ipython3",
   "version": "3.6.3"
  }
 },
 "nbformat": 4,
 "nbformat_minor": 2
}

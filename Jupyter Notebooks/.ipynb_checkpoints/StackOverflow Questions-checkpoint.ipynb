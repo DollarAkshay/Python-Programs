{
 "cells": [
  {
   "cell_type": "markdown",
   "metadata": {},
   "source": [
    "# Stack Overflow Question\n",
    "https://stackoverflow.com/questions/56873180/algorithm-to-interleave-clusters"
   ]
  },
  {
   "cell_type": "code",
   "execution_count": 25,
   "metadata": {},
   "outputs": [],
   "source": [
    "import datetime\n",
    "import glob\n",
    "import ipywidgets\n",
    "import math\n",
    "import matplotlib.pyplot as plt\n",
    "import numpy as np\n",
    "import pandas as pd\n",
    "from scipy import stats\n",
    "import seaborn as sns\n",
    "import time"
   ]
  },
  {
   "cell_type": "markdown",
   "metadata": {},
   "source": [
    "## Global Values"
   ]
  },
  {
   "cell_type": "code",
   "execution_count": 2,
   "metadata": {},
   "outputs": [],
   "source": [
    "list_a = ['A']*2\n",
    "list_b = ['B']*9\n",
    "list_c = ['C']*5\n",
    "\n",
    "a = len(list_a)\n",
    "b = len(list_b)\n",
    "c = len(list_c)\n",
    "n = a + b + c"
   ]
  },
  {
   "cell_type": "markdown",
   "metadata": {},
   "source": [
    "## Naive Solutions"
   ]
  },
  {
   "cell_type": "code",
   "execution_count": 3,
   "metadata": {},
   "outputs": [],
   "source": [
    "def eval_spread(cur_list):\n",
    "    cur_spread = 0\n",
    "    last_idx = {}\n",
    "    for i, x in enumerate(cur_list):\n",
    "        if x in last_idx:\n",
    "            cur_spread += i-last_idx[x]\n",
    "        last_idx[x] = i\n",
    "    \n",
    "    return cur_spread\n",
    "\n",
    "def solve(a, b, c):\n",
    "    \n",
    "    global best_spread, best_list\n",
    "\n",
    "    if a==0 and b==0 and c==0:\n",
    "        cur_spread = eval_spread(cur_list)\n",
    "        if cur_spread > best_spread:\n",
    "            best_spread = cur_spread\n",
    "            best_list = cur_list.copy()\n",
    "            print(best_spread, \"|\", best_list)\n",
    "        \n",
    "    res = 0\n",
    "    if a > 0:\n",
    "        cur_list.append('A')\n",
    "        res = max(res, solve(a-1, b, c))\n",
    "        cur_list.pop()\n",
    "    if b > 0:\n",
    "        cur_list.append('B')\n",
    "        res = max(res, solve(a, b-1, c))\n",
    "        cur_list.pop()\n",
    "    if c > 0:\n",
    "        cur_list.append('C')\n",
    "        res = max(res, solve(a, b, c-1))\n",
    "        cur_list.pop()\n",
    "    \n",
    "    return res\n"
   ]
  },
  {
   "cell_type": "code",
   "execution_count": 4,
   "metadata": {},
   "outputs": [
    {
     "name": "stdout",
     "output_type": "stream",
     "text": [
      "13 | ['A', 'A', 'B', 'B', 'B', 'B', 'B', 'B', 'B', 'B', 'B', 'C', 'C', 'C', 'C', 'C']\n",
      "15 | ['A', 'A', 'B', 'B', 'B', 'B', 'B', 'B', 'B', 'B', 'C', 'B', 'C', 'C', 'C', 'C']\n",
      "16 | ['A', 'A', 'B', 'B', 'B', 'B', 'B', 'B', 'B', 'B', 'C', 'C', 'B', 'C', 'C', 'C']\n",
      "17 | ['A', 'A', 'B', 'B', 'B', 'B', 'B', 'B', 'B', 'B', 'C', 'C', 'C', 'B', 'C', 'C']\n",
      "18 | ['A', 'A', 'B', 'B', 'B', 'B', 'B', 'B', 'B', 'B', 'C', 'C', 'C', 'C', 'B', 'C']\n",
      "19 | ['A', 'A', 'B', 'B', 'B', 'B', 'B', 'B', 'B', 'C', 'B', 'C', 'C', 'C', 'B', 'C']\n",
      "20 | ['A', 'A', 'B', 'B', 'B', 'B', 'B', 'B', 'C', 'B', 'B', 'C', 'C', 'C', 'B', 'C']\n",
      "21 | ['A', 'A', 'B', 'B', 'B', 'B', 'B', 'C', 'B', 'B', 'B', 'C', 'C', 'C', 'B', 'C']\n",
      "22 | ['A', 'A', 'B', 'B', 'B', 'B', 'C', 'B', 'B', 'B', 'B', 'C', 'C', 'C', 'B', 'C']\n",
      "23 | ['A', 'A', 'B', 'B', 'B', 'C', 'B', 'B', 'B', 'B', 'B', 'C', 'C', 'C', 'B', 'C']\n",
      "24 | ['A', 'A', 'B', 'B', 'C', 'B', 'B', 'B', 'B', 'B', 'B', 'C', 'C', 'C', 'B', 'C']\n",
      "25 | ['A', 'A', 'B', 'C', 'B', 'B', 'B', 'B', 'B', 'B', 'B', 'C', 'C', 'C', 'B', 'C']\n",
      "26 | ['A', 'B', 'A', 'B', 'C', 'B', 'B', 'B', 'B', 'B', 'B', 'C', 'C', 'C', 'B', 'C']\n",
      "27 | ['A', 'B', 'A', 'C', 'B', 'B', 'B', 'B', 'B', 'B', 'B', 'C', 'C', 'C', 'B', 'C']\n",
      "28 | ['A', 'B', 'B', 'B', 'B', 'B', 'B', 'B', 'B', 'C', 'A', 'C', 'C', 'B', 'C', 'C']\n",
      "29 | ['A', 'B', 'B', 'B', 'B', 'B', 'B', 'B', 'B', 'C', 'A', 'C', 'C', 'C', 'B', 'C']\n",
      "30 | ['A', 'B', 'B', 'B', 'B', 'B', 'B', 'B', 'B', 'C', 'C', 'A', 'C', 'C', 'B', 'C']\n",
      "31 | ['A', 'B', 'B', 'B', 'B', 'B', 'B', 'B', 'B', 'C', 'C', 'C', 'A', 'C', 'B', 'C']\n",
      "32 | ['A', 'B', 'B', 'B', 'B', 'B', 'B', 'B', 'B', 'C', 'C', 'C', 'C', 'A', 'B', 'C']\n",
      "33 | ['A', 'B', 'B', 'B', 'B', 'B', 'B', 'B', 'C', 'B', 'C', 'C', 'C', 'A', 'B', 'C']\n",
      "34 | ['A', 'B', 'B', 'B', 'B', 'B', 'B', 'C', 'B', 'B', 'C', 'C', 'C', 'A', 'B', 'C']\n",
      "35 | ['A', 'B', 'B', 'B', 'B', 'B', 'C', 'B', 'B', 'B', 'C', 'C', 'C', 'A', 'B', 'C']\n",
      "36 | ['A', 'B', 'B', 'B', 'B', 'C', 'B', 'B', 'B', 'B', 'C', 'C', 'C', 'A', 'B', 'C']\n",
      "37 | ['A', 'B', 'B', 'B', 'C', 'B', 'B', 'B', 'B', 'B', 'C', 'C', 'C', 'A', 'B', 'C']\n",
      "38 | ['A', 'B', 'B', 'C', 'B', 'B', 'B', 'B', 'B', 'B', 'C', 'C', 'C', 'A', 'B', 'C']\n",
      "39 | ['A', 'B', 'C', 'B', 'B', 'B', 'B', 'B', 'B', 'B', 'C', 'C', 'C', 'A', 'B', 'C']\n",
      "Done\n",
      "Best List :\n",
      " ['A', 'B', 'C', 'B', 'B', 'B', 'B', 'B', 'B', 'B', 'C', 'C', 'C', 'A', 'B', 'C']\n",
      "Wall time: 1.33 s\n"
     ]
    }
   ],
   "source": [
    "%%time\n",
    "best_spread = 1\n",
    "best_list = []\n",
    "cur_list = []\n",
    "solve(a, b, c)\n",
    "print(\"Done\\nBest List :\\n\", best_list)"
   ]
  },
  {
   "cell_type": "code",
   "execution_count": 5,
   "metadata": {},
   "outputs": [
    {
     "name": "stdout",
     "output_type": "stream",
     "text": [
      "Spread for 5 : [13]\n",
      "Spread for 5 : [2, 1, 1, 1, 1, 1, 1, 5]\n",
      "Spread for 5 : [8, 1, 1, 3]\n"
     ]
    }
   ],
   "source": [
    "for x in ['A', 'B', 'C']:\n",
    "    spread = []\n",
    "    last_i = -1\n",
    "    for i in range(len(best_list)):\n",
    "        if best_list[i] == x:\n",
    "            if last_i != -1:\n",
    "                spread.append(i-last_i)\n",
    "            last_i = i\n",
    "    print(\"Spread for {} : {}\".format(c, spread))"
   ]
  },
  {
   "cell_type": "markdown",
   "metadata": {},
   "source": [
    "## Dynamic Programing Optimization"
   ]
  },
  {
   "cell_type": "code",
   "execution_count": 13,
   "metadata": {},
   "outputs": [
    {
     "name": "stdout",
     "output_type": "stream",
     "text": [
      "13 | ['A', 'A', 'B', 'B', 'B', 'B', 'B', 'B', 'B', 'B', 'B', 'C', 'C', 'C', 'C', 'C']\n",
      "15 | ['A', 'A', 'B', 'B', 'B', 'B', 'B', 'B', 'B', 'B', 'C', 'B', 'C', 'C', 'C', 'C']\n",
      "16 | ['A', 'A', 'B', 'B', 'B', 'B', 'B', 'B', 'B', 'B', 'C', 'C', 'B', 'C', 'C', 'C']\n",
      "17 | ['A', 'A', 'B', 'B', 'B', 'B', 'B', 'B', 'B', 'B', 'C', 'C', 'C', 'B', 'C', 'C']\n",
      "18 | ['A', 'A', 'B', 'B', 'B', 'B', 'B', 'B', 'B', 'B', 'C', 'C', 'C', 'C', 'B', 'C']\n",
      "19 | ['A', 'A', 'B', 'B', 'B', 'B', 'B', 'B', 'B', 'C', 'B', 'C', 'C', 'C', 'B', 'C']\n",
      "20 | ['A', 'A', 'B', 'B', 'B', 'B', 'B', 'B', 'C', 'B', 'B', 'C', 'C', 'C', 'B', 'C']\n",
      "21 | ['A', 'A', 'B', 'B', 'B', 'B', 'B', 'C', 'B', 'B', 'B', 'C', 'C', 'C', 'B', 'C']\n",
      "22 | ['A', 'A', 'B', 'B', 'B', 'B', 'C', 'B', 'B', 'B', 'B', 'C', 'C', 'C', 'B', 'C']\n",
      "23 | ['A', 'A', 'B', 'B', 'B', 'C', 'B', 'B', 'B', 'B', 'B', 'C', 'C', 'C', 'B', 'C']\n",
      "24 | ['A', 'A', 'B', 'B', 'C', 'B', 'B', 'B', 'B', 'B', 'B', 'C', 'C', 'C', 'B', 'C']\n",
      "25 | ['A', 'A', 'B', 'C', 'B', 'B', 'B', 'B', 'B', 'B', 'B', 'C', 'C', 'C', 'B', 'C']\n",
      "26 | ['A', 'B', 'A', 'B', 'C', 'B', 'B', 'B', 'B', 'B', 'B', 'C', 'C', 'C', 'B', 'C']\n",
      "27 | ['A', 'B', 'A', 'C', 'B', 'B', 'B', 'B', 'B', 'B', 'B', 'C', 'C', 'C', 'B', 'C']\n",
      "28 | ['A', 'B', 'B', 'B', 'B', 'B', 'B', 'B', 'B', 'C', 'A', 'C', 'C', 'B', 'C', 'C']\n",
      "29 | ['A', 'B', 'B', 'B', 'B', 'B', 'B', 'B', 'B', 'C', 'A', 'C', 'C', 'C', 'B', 'C']\n",
      "30 | ['A', 'B', 'B', 'B', 'B', 'B', 'B', 'B', 'B', 'C', 'C', 'A', 'C', 'C', 'B', 'C']\n",
      "31 | ['A', 'B', 'B', 'B', 'B', 'B', 'B', 'B', 'B', 'C', 'C', 'C', 'A', 'C', 'B', 'C']\n",
      "32 | ['A', 'B', 'B', 'B', 'B', 'B', 'B', 'B', 'B', 'C', 'C', 'C', 'C', 'A', 'B', 'C']\n",
      "33 | ['A', 'B', 'B', 'B', 'B', 'B', 'B', 'B', 'C', 'B', 'C', 'C', 'C', 'A', 'B', 'C']\n",
      "34 | ['A', 'B', 'B', 'B', 'B', 'B', 'B', 'C', 'B', 'B', 'C', 'C', 'C', 'A', 'B', 'C']\n",
      "35 | ['A', 'B', 'B', 'B', 'B', 'B', 'C', 'B', 'B', 'B', 'C', 'C', 'C', 'A', 'B', 'C']\n",
      "36 | ['A', 'B', 'B', 'B', 'B', 'C', 'B', 'B', 'B', 'B', 'C', 'C', 'C', 'A', 'B', 'C']\n",
      "37 | ['A', 'B', 'B', 'B', 'C', 'B', 'B', 'B', 'B', 'B', 'C', 'C', 'C', 'A', 'B', 'C']\n",
      "38 | ['A', 'B', 'B', 'C', 'B', 'B', 'B', 'B', 'B', 'B', 'C', 'C', 'C', 'A', 'B', 'C']\n",
      "39 | ['A', 'B', 'C', 'B', 'B', 'B', 'B', 'B', 'B', 'B', 'C', 'C', 'C', 'A', 'B', 'C']\n",
      "Done\n",
      "Best List :\n",
      " ['A', 'B', 'C', 'B', 'B', 'B', 'B', 'B', 'B', 'B', 'C', 'C', 'C', 'A', 'B', 'C'] 0\n",
      "Wall time: 1.35 s\n"
     ]
    }
   ],
   "source": [
    "%%time\n",
    "best_spread = 1\n",
    "best_list = []\n",
    "cur_list = []\n",
    "x = solve_dp(a, b, c)\n",
    "print(\"Done\\nBest List :\\n\", best_list, x)"
   ]
  },
  {
   "cell_type": "code",
   "execution_count": 17,
   "metadata": {},
   "outputs": [],
   "source": [
    "a = [ 3, 2, 0, 1 ]\n",
    "n = 4"
   ]
  },
  {
   "cell_type": "code",
   "execution_count": 18,
   "metadata": {},
   "outputs": [
    {
     "name": "stdout",
     "output_type": "stream",
     "text": [
      "1\n",
      "0\n",
      "7\n",
      "2\n"
     ]
    }
   ],
   "source": [
    "for i in range(0, n):\n",
    "    print(a[a[i]])\n",
    "    a[i] += (a[a[i]] % n) * n\n",
    "\n",
    "for i in range(0, n):\n",
    "    a[i] //= n"
   ]
  },
  {
   "cell_type": "code",
   "execution_count": 19,
   "metadata": {},
   "outputs": [
    {
     "data": {
      "text/plain": [
       "[1, 0, 3, 2]"
      ]
     },
     "execution_count": 19,
     "metadata": {},
     "output_type": "execute_result"
    }
   ],
   "source": [
    "a"
   ]
  },
  {
   "cell_type": "code",
   "execution_count": 35,
   "metadata": {},
   "outputs": [],
   "source": [
    "x = 4\n",
    "y = 7\n",
    "z = 3\n",
    "N = 21563163762572572574634215165164617645147157"
   ]
  },
  {
   "cell_type": "code",
   "execution_count": 26,
   "metadata": {},
   "outputs": [],
   "source": [
    "def f1(X, Y, Z, N):\n",
    "    res = a = b = c = -1\n",
    "\n",
    "    for i in range(1, int(math.log(N)/math.log(X))):\n",
    "        for j in range(1, int(math.log(N)/math.log(Y))):\n",
    "            for k in range(1, int(math.log(N)/math.log(Z))):\n",
    "                product = pow(X, i) * pow(Y, j) * pow(Z, k)\n",
    "                if product > N:\n",
    "                    break\n",
    "                if product > res:\n",
    "                    res = product\n",
    "                    a = i\n",
    "                    b = j\n",
    "                    c = k\n",
    "\n",
    "    return a, b, c"
   ]
  },
  {
   "cell_type": "code",
   "execution_count": 63,
   "metadata": {},
   "outputs": [],
   "source": [
    "def f2(X, Y, Z, N):\n",
    "    \n",
    "    a = b = c = -1\n",
    "    i = j = k = -1\n",
    "    \n",
    "    maxProd = 1\n",
    "    curProd = 1\n",
    "\n",
    "    for i in range(1, N):\n",
    "        curProd *= x\n",
    "        for j in range(1, N):\n",
    "            curProd *= y\n",
    "            for k in range(1, N):\n",
    "                curProd *= z\n",
    "                if curProd > N:\n",
    "                    break\n",
    "                if curProd > maxProd:\n",
    "                    maxProd = curProd\n",
    "                    a,b,c = i,j,k\n",
    "                    \n",
    "            curProd //= z**k\n",
    "            if curProd > N:\n",
    "                break\n",
    "        curProd //= y**j\n",
    "        if curProd > N:\n",
    "            break\n",
    "    curProd //= x**i\n",
    "    \n",
    "    return a, b, c"
   ]
  },
  {
   "cell_type": "code",
   "execution_count": 64,
   "metadata": {},
   "outputs": [
    {
     "name": "stdout",
     "output_type": "stream",
     "text": [
      "Wall time: 82 ms\n"
     ]
    },
    {
     "data": {
      "text/plain": [
       "(30, 22, 14)"
      ]
     },
     "execution_count": 64,
     "metadata": {},
     "output_type": "execute_result"
    }
   ],
   "source": [
    "%%time\n",
    "f1(x, y, z, N)"
   ]
  },
  {
   "cell_type": "code",
   "execution_count": 65,
   "metadata": {},
   "outputs": [
    {
     "name": "stdout",
     "output_type": "stream",
     "text": [
      "Wall time: 14 ms\n"
     ]
    },
    {
     "data": {
      "text/plain": [
       "(21560269552920892636648283552773698754707456, 30, 22, 14)"
      ]
     },
     "execution_count": 65,
     "metadata": {},
     "output_type": "execute_result"
    }
   ],
   "source": [
    "%%time\n",
    "f2(x, y, z, N)"
   ]
  },
  {
   "cell_type": "code",
   "execution_count": 80,
   "metadata": {},
   "outputs": [],
   "source": [
    "def prime_sieve():\n",
    "    global prime\n",
    "    prime = [True for i in range(1000001)]\n",
    "    prime[0] = prime[1] = False\n",
    "    p = 2\n",
    "    while p*p<=1000001:\n",
    "        if prime[p] == True:\n",
    "            for i in range(p*p,n+1,p):\n",
    "                prime[i] = False\n",
    "        p+=1\n",
    "\n",
    "    \n",
    "##Check whether the given prime is circular or not##\n",
    "def circular_checker(lim):\n",
    "    global circular_prime\n",
    "    circular_prime = [False for i in range(1000001)]\n",
    "    for i in range(2, lim):\n",
    "        if prime[i] == True:\n",
    "            x = i\n",
    "            cycles = len(str(x))-1\n",
    "            isCircular = True\n",
    "            x_ = []\n",
    "            \n",
    "            x_.append(x)\n",
    "            for j in range(cycles):\n",
    "                x = x//10 + (x%10)*(10**cycles)\n",
    "                x_.append(x)\n",
    "                if prime[x] == False:\n",
    "                    isCircular = False\n",
    "                    break\n",
    "                    \n",
    "            if isCircular:\n",
    "                for x in x_: \n",
    "                    circular_prime[x] = True"
   ]
  },
  {
   "cell_type": "code",
   "execution_count": 81,
   "metadata": {},
   "outputs": [
    {
     "name": "stdout",
     "output_type": "stream",
     "text": [
      "Wall time: 0 ns\n",
      "2, 3, 5, 7, 11, 13, 17, 37, 79, 113, 197, 199, 337, 1193, 3779, 11939, 19937, 193939, 199933, \n",
      " Ans :  19\n"
     ]
    }
   ],
   "source": [
    "%time\n",
    "prime = []\n",
    "circular_prime = []\n",
    "prime_sieve()\n",
    "circular_checker(1000000)\n",
    "\n",
    "print(\"\\n Ans : \", len(circular_prime))"
   ]
  },
  {
   "cell_type": "code",
   "execution_count": null,
   "metadata": {},
   "outputs": [],
   "source": []
  }
 ],
 "metadata": {
  "kernelspec": {
   "display_name": "Python 3",
   "language": "python",
   "name": "python3"
  },
  "language_info": {
   "codemirror_mode": {
    "name": "ipython",
    "version": 3
   },
   "file_extension": ".py",
   "mimetype": "text/x-python",
   "name": "python",
   "nbconvert_exporter": "python",
   "pygments_lexer": "ipython3",
   "version": "3.6.3"
  }
 },
 "nbformat": 4,
 "nbformat_minor": 2
}

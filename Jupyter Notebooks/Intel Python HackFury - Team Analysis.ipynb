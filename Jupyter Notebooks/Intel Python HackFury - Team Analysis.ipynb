{
 "cells": [
  {
   "cell_type": "markdown",
   "metadata": {},
   "source": [
    "# Intel Python HackFury Team Analysis\n",
    "\n",
    "Analyze the teams for the [HackerEarth - Intel Python HackFury]https://www.hackerearth.com/challenges/hackathon/intel-python-hackfury2/participants/#participants) from the HTML page"
   ]
  },
  {
   "cell_type": "code",
   "execution_count": 1,
   "metadata": {},
   "outputs": [],
   "source": [
    "%matplotlib inline\n",
    "\n",
    "import datetime\n",
    "import glob\n",
    "import ipywidgets\n",
    "import math\n",
    "import matplotlib.pyplot as plt\n",
    "import numpy as np\n",
    "import pandas as pd\n",
    "from scipy import stats\n",
    "import seaborn as sns\n",
    "import time\n",
    "\n",
    "from bs4 import BeautifulSoup"
   ]
  },
  {
   "cell_type": "markdown",
   "metadata": {},
   "source": [
    "## Global parameters and variables"
   ]
  },
  {
   "cell_type": "code",
   "execution_count": 2,
   "metadata": {},
   "outputs": [],
   "source": [
    "plt.rcParams['figure.figsize'] = [16, 9]\n",
    "plt.rcParams['font.size'] = 14\n",
    "plt.rcParams['axes.grid'] = True\n",
    "plt.rcParams['figure.facecolor'] = 'white'\n",
    "pd.set_option('display.max_columns', 100)\n",
    "pd.set_option('display.width', 1000)"
   ]
  },
  {
   "cell_type": "code",
   "execution_count": 3,
   "metadata": {},
   "outputs": [],
   "source": [
    "html_file = './data/Online Hackathon _ HackerEarth developer event _ Intel Python HACKFURY.html'\n",
    "with open(html_file, encoding=\"utf-8\") as f:\n",
    "    html_content = f.read()\n",
    "soup = BeautifulSoup(html_content, 'html.parser')\n",
    "team_divs = soup.find_all(class_=\"pl-card-header\")"
   ]
  },
  {
   "cell_type": "code",
   "execution_count": 4,
   "metadata": {},
   "outputs": [],
   "source": [
    "teams = []\n",
    "for team_div in team_divs:\n",
    "    team_name = team_div.find('span').text.strip()\n",
    "    team_member_divs = team_div.find_all(class_=\"profile-pic-name\")\n",
    "    team_members = [member.text.strip() for member in team_member_divs]\n",
    "    teams.append((team_name, team_members))"
   ]
  },
  {
   "cell_type": "code",
   "execution_count": 5,
   "metadata": {},
   "outputs": [
    {
     "name": "stdout",
     "output_type": "stream",
     "text": [
      "Shape :  (4537, 4)\n"
     ]
    },
    {
     "data": {
      "text/html": [
       "<div>\n",
       "<style scoped>\n",
       "    .dataframe tbody tr th:only-of-type {\n",
       "        vertical-align: middle;\n",
       "    }\n",
       "\n",
       "    .dataframe tbody tr th {\n",
       "        vertical-align: top;\n",
       "    }\n",
       "\n",
       "    .dataframe thead th {\n",
       "        text-align: right;\n",
       "    }\n",
       "</style>\n",
       "<table border=\"1\" class=\"dataframe\">\n",
       "  <thead>\n",
       "    <tr style=\"text-align: right;\">\n",
       "      <th></th>\n",
       "      <th>TeamName</th>\n",
       "      <th>TeamMembers</th>\n",
       "      <th>TeamSize</th>\n",
       "      <th>DefaultName</th>\n",
       "    </tr>\n",
       "  </thead>\n",
       "  <tbody>\n",
       "    <tr>\n",
       "      <th>2706</th>\n",
       "      <td>priyanshu322_f162</td>\n",
       "      <td>[Priyanshu Somani]</td>\n",
       "      <td>1</td>\n",
       "      <td>True</td>\n",
       "    </tr>\n",
       "    <tr>\n",
       "      <th>3265</th>\n",
       "      <td>samhita19_b6f0</td>\n",
       "      <td>[Samhita Gadamsetty]</td>\n",
       "      <td>1</td>\n",
       "      <td>True</td>\n",
       "    </tr>\n",
       "    <tr>\n",
       "      <th>3556</th>\n",
       "      <td>avi.tomar12_78cd</td>\n",
       "      <td>[Avi tomar]</td>\n",
       "      <td>1</td>\n",
       "      <td>True</td>\n",
       "    </tr>\n",
       "    <tr>\n",
       "      <th>3996</th>\n",
       "      <td>ukkalamsai_629c</td>\n",
       "      <td>[Ukkalam Sai Sreevathsav]</td>\n",
       "      <td>1</td>\n",
       "      <td>True</td>\n",
       "    </tr>\n",
       "    <tr>\n",
       "      <th>1348</th>\n",
       "      <td>FrictioNN_f5cd</td>\n",
       "      <td>[Arpit Gupta]</td>\n",
       "      <td>1</td>\n",
       "      <td>True</td>\n",
       "    </tr>\n",
       "    <tr>\n",
       "      <th>2329</th>\n",
       "      <td>sohail102_9a20</td>\n",
       "      <td>[Sohail Ustad]</td>\n",
       "      <td>1</td>\n",
       "      <td>True</td>\n",
       "    </tr>\n",
       "    <tr>\n",
       "      <th>1952</th>\n",
       "      <td>manikandan324_0a0c</td>\n",
       "      <td>[Manikandan Ramanujam]</td>\n",
       "      <td>1</td>\n",
       "      <td>True</td>\n",
       "    </tr>\n",
       "    <tr>\n",
       "      <th>206</th>\n",
       "      <td>nikitha258_8f59</td>\n",
       "      <td>[Nikitha B M, kavyakrishnamurty5]</td>\n",
       "      <td>2</td>\n",
       "      <td>True</td>\n",
       "    </tr>\n",
       "    <tr>\n",
       "      <th>369</th>\n",
       "      <td>ritika104_a024</td>\n",
       "      <td>[Ritika Agarwal]</td>\n",
       "      <td>1</td>\n",
       "      <td>True</td>\n",
       "    </tr>\n",
       "    <tr>\n",
       "      <th>3847</th>\n",
       "      <td>Techno-Creatv</td>\n",
       "      <td>[tejasvi singh, akhtar.j1990]</td>\n",
       "      <td>2</td>\n",
       "      <td>False</td>\n",
       "    </tr>\n",
       "  </tbody>\n",
       "</table>\n",
       "</div>"
      ],
      "text/plain": [
       "                TeamName                        TeamMembers  TeamSize  DefaultName\n",
       "2706   priyanshu322_f162                 [Priyanshu Somani]         1         True\n",
       "3265      samhita19_b6f0               [Samhita Gadamsetty]         1         True\n",
       "3556    avi.tomar12_78cd                        [Avi tomar]         1         True\n",
       "3996     ukkalamsai_629c          [Ukkalam Sai Sreevathsav]         1         True\n",
       "1348      FrictioNN_f5cd                      [Arpit Gupta]         1         True\n",
       "2329      sohail102_9a20                     [Sohail Ustad]         1         True\n",
       "1952  manikandan324_0a0c             [Manikandan Ramanujam]         1         True\n",
       "206      nikitha258_8f59  [Nikitha B M, kavyakrishnamurty5]         2         True\n",
       "369       ritika104_a024                   [Ritika Agarwal]         1         True\n",
       "3847       Techno-Creatv      [tejasvi singh, akhtar.j1990]         2        False"
      ]
     },
     "execution_count": 5,
     "metadata": {},
     "output_type": "execute_result"
    }
   ],
   "source": [
    "df = pd.DataFrame(teams)\n",
    "df.columns = [\"TeamName\", \"TeamMembers\"]\n",
    "df[\"TeamSize\"] = df[\"TeamMembers\"].str.len()\n",
    "df[\"DefaultName\"] = np.where(df[\"TeamName\"].str.match(r\".*_[0-9abcdef]{4}\"), True,  False)\n",
    "print(\"Shape : \", df.shape)\n",
    "df.sample(10)"
   ]
  },
  {
   "cell_type": "code",
   "execution_count": 6,
   "metadata": {},
   "outputs": [
    {
     "name": "stdout",
     "output_type": "stream",
     "text": [
      "True     4258\n",
      "False     279\n",
      "Name: DefaultName, dtype: int64\n"
     ]
    },
    {
     "data": {
      "text/plain": [
       "Text(0.5, 1.0, 'Actual Teams vs Default Teams')"
      ]
     },
     "execution_count": 6,
     "metadata": {},
     "output_type": "execute_result"
    },
    {
     "data": {
      "image/png": "[encoded data removed]",
      "text/plain": [
       "<Figure size 1152x648 with 1 Axes>"
      ]
     },
     "metadata": {},
     "output_type": "display_data"
    }
   ],
   "source": [
    "print(df[\"DefaultName\"].value_counts())\n",
    "sns.countplot(x=\"DefaultName\", data=df)\n",
    "plt.title(\"Actual Teams vs Default Teams\")"
   ]
  },
  {
   "cell_type": "code",
   "execution_count": 7,
   "metadata": {},
   "outputs": [
    {
     "name": "stdout",
     "output_type": "stream",
     "text": [
      "False    279\n",
      "Name: DefaultName, dtype: int64\n"
     ]
    },
    {
     "data": {
      "text/plain": [
       "Text(0.5, 1.0, 'Actual Team Sizes')"
      ]
     },
     "execution_count": 7,
     "metadata": {},
     "output_type": "execute_result"
    },
    {
     "data": {
      "image/png": "[encoded data removed]",
      "text/plain": [
       "<Figure size 1152x648 with 1 Axes>"
      ]
     },
     "metadata": {},
     "output_type": "display_data"
    }
   ],
   "source": [
    "print(df[df[\"DefaultName\"]==False][\"DefaultName\"].value_counts())\n",
    "sns.countplot(x=\"TeamSize\", data=df[df[\"DefaultName\"]==False])\n",
    "plt.title(\"Actual Team Sizes\")"
   ]
  },
  {
   "cell_type": "code",
   "execution_count": null,
   "metadata": {},
   "outputs": [],
   "source": []
  }
 ],
 "metadata": {
  "kernelspec": {
   "display_name": "Python 3",
   "language": "python",
   "name": "python3"
  },
  "language_info": {
   "codemirror_mode": {
    "name": "ipython",
    "version": 3
   },
   "file_extension": ".py",
   "mimetype": "text/x-python",
   "name": "python",
   "nbconvert_exporter": "python",
   "pygments_lexer": "ipython3",
   "version": "3.6.3"
  }
 },
 "nbformat": 4,
 "nbformat_minor": 2
}
